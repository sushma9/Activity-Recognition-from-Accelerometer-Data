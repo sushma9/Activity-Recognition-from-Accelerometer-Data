{
 "cells": [
  {
   "cell_type": "code",
   "execution_count": 3,
   "metadata": {
    "collapsed": true
   },
   "outputs": [],
   "source": [
    "import pandas as pd"
   ]
  },
  {
   "cell_type": "code",
   "execution_count": 4,
   "metadata": {
    "collapsed": false
   },
   "outputs": [],
   "source": [
    "import numpy as np"
   ]
  },
  {
   "cell_type": "code",
   "execution_count": 5,
   "metadata": {
    "collapsed": true
   },
   "outputs": [],
   "source": [
    "import matplotlib.pyplot as plt"
   ]
  },
  {
   "cell_type": "code",
   "execution_count": 6,
   "metadata": {
    "collapsed": true
   },
   "outputs": [],
   "source": [
    "from scipy.signal import lfilter"
   ]
  },
  {
   "cell_type": "code",
   "execution_count": 7,
   "metadata": {
    "collapsed": true
   },
   "outputs": [],
   "source": [
    "from sklearn.ensemble import RandomForestClassifier"
   ]
  },
  {
   "cell_type": "code",
   "execution_count": 8,
   "metadata": {
    "collapsed": true
   },
   "outputs": [],
   "source": [
    "from sklearn.metrics import accuracy_score"
   ]
  },
  {
   "cell_type": "code",
   "execution_count": 9,
   "metadata": {
    "collapsed": true
   },
   "outputs": [],
   "source": [
    "### sampling rate, 's' = 52Hz and cut off frequency, 'fc' is assumed as 1Hz\n",
    "rc = 1/(2*3.141*1)"
   ]
  },
  {
   "cell_type": "code",
   "execution_count": 10,
   "metadata": {
    "collapsed": false
   },
   "outputs": [],
   "source": [
    "dt = 1/52.0"
   ]
  },
  {
   "cell_type": "code",
   "execution_count": 11,
   "metadata": {
    "collapsed": true
   },
   "outputs": [],
   "source": [
    "### alpha: coefficient for low pass filtering of the raw acceleration signal\n",
    "alpha = dt/(dt + rc)\n",
    "beta = 1-alpha"
   ]
  },
  {
   "cell_type": "code",
   "execution_count": 12,
   "metadata": {
    "collapsed": true
   },
   "outputs": [],
   "source": [
    "df_var = pd.DataFrame()"
   ]
  },
  {
   "cell_type": "code",
   "execution_count": 13,
   "metadata": {
    "collapsed": true
   },
   "outputs": [],
   "source": [
    "### reading 15 activity files \n",
    "for j in range(1,16):\n",
    "    df = pd.read_csv('C:/Users/Downloads/Activity/'+str(j)+'.csv', header = None)\n",
    "    df.columns = ['id','ax','ay','az','label']\n",
    "    df = df[df.label != 0]\n",
    "    df_var = pd.concat([df_var, df])"
   ]
  },
  {
   "cell_type": "code",
   "execution_count": 14,
   "metadata": {
    "collapsed": true
   },
   "outputs": [],
   "source": [
    "df_var.index = range(len(df_var.label))"
   ]
  },
  {
   "cell_type": "code",
   "execution_count": 15,
   "metadata": {
    "collapsed": false
   },
   "outputs": [],
   "source": [
    "### creation of different features\n",
    "### window of samples with sample length = 128 records with 50% overlapping(i.e 64 records overlap)\n",
    "### 1. root mean squared value of acceleration in x,y and z directions\n",
    "### 2. velocity is calculated in 3 directions; v = u + a(t) ; u is assumed to be 0 at the start of every window, t is 1/52 = 0.019 sec/sample\n",
    "### 3. Low pass filter is applied with alpha, The DC components of the signal are calculated. \n",
    "### 4. AC components are then derived AX_AC = AX - AX_DC\n",
    "### 5. RMS vectors of AC and DC components are calculated for both velocity and acceleration\n",
    "### 6. Other features like mean, min, max, min-max, std, skew and kurtosis are calculated for the different features.\n",
    "\n",
    "\n",
    "fin_df = pd.DataFrame()\n",
    "dfseq = range(0, len(df_var.label), 64)\n",
    "for window in range(len(dfseq)): \n",
    "    subdf = pd.DataFrame()\n",
    "    if window+2 < len(dfseq):\n",
    "        sub = df_var[dfseq[window]:dfseq[window+2]] \n",
    "        subdf = pd.concat([sub]) \n",
    "        subdf['acc_rms'] = pow((subdf.ax**2) + (subdf.ay**2) + (subdf.az**2), 0.5 )\n",
    "        subdf['x_at'] = subdf.ax*0.019\n",
    "        subdf['y_at'] = subdf.ay*0.019  \n",
    "        subdf['z_at'] = subdf.az*0.019\n",
    "        subdf['vx'] = subdf.x_at.cumsum()\n",
    "        subdf['vy'] = subdf.y_at.cumsum()\n",
    "        subdf['vz'] = subdf.z_at.cumsum()\n",
    "        subdf['v_rms'] = pow((subdf.vx**2) + (subdf.vy**2) + (subdf.vz**2), 0.5)\n",
    "        subdf['ax_dc'] = pd.Series(lfilter([alpha],[1,-beta], subdf['ax'].astype(float)), index = range(dfseq[window],dfseq[window+2]))\n",
    "        subdf['ay_dc'] = pd.Series(lfilter([alpha],[1,-beta], subdf['ay'].astype(float)), index = range(dfseq[window],dfseq[window+2]))\n",
    "        subdf['az_dc'] = pd.Series(lfilter([alpha],[1,-beta], subdf['az'].astype(float)), index = range(dfseq[window],dfseq[window+2]))\n",
    "        subdf['acc_dc_rms'] = pow((subdf.ax_dc**2) + (subdf.ay_dc**2) + (subdf.az_dc**2), 0.5)\n",
    "        subdf['ax_ac'] = subdf.ax - subdf.ax_dc\n",
    "        subdf['ay_ac'] = subdf.ay - subdf.ay_dc\n",
    "        subdf['az_ac'] = subdf.az - subdf.az_dc\n",
    "        subdf['acc_ac_rms'] = pow((subdf.ax_ac**2) + (subdf.ay_ac**2) + (subdf.az_ac**2), 0.5)        \n",
    "        subdf['x_dc_at'] = subdf.ax_dc*0.019\n",
    "        subdf['y_dc_at'] = subdf.ay_dc*0.019  \n",
    "        subdf['z_dc_at'] = subdf.az_dc*0.019\n",
    "        subdf['vx_dc'] = subdf.x_dc_at.cumsum()\n",
    "        subdf['vy_dc'] = subdf.y_dc_at.cumsum()\n",
    "        subdf['vz_dc'] = subdf.z_dc_at.cumsum()\n",
    "        subdf['v_dc_rms'] = pow((subdf.vx_dc**2) + (subdf.vy_dc**2) + (subdf.vz_dc**2), 0.5)        \n",
    "        subdf['x_ac_at'] = subdf.ax_ac*0.019\n",
    "        subdf['y_ac_at'] = subdf.ay_ac*0.019  \n",
    "        subdf['z_ac_at'] = subdf.az_ac*0.019\n",
    "        subdf['vx_ac'] = subdf.x_ac_at.cumsum()\n",
    "        subdf['vy_ac'] = subdf.y_ac_at.cumsum()\n",
    "        subdf['vz_ac'] = subdf.z_ac_at.cumsum()\n",
    "        subdf['v_ac_rms'] = pow((subdf.vx_ac**2) + (subdf.vy_ac**2) + (subdf.vz_ac**2), 0.5)        \n",
    "        subdf['acc_rms_mean'] = pd.Series([subdf.acc_rms.mean()]* len(subdf), index = range(dfseq[window],dfseq[window+2]))\n",
    "        subdf['acc_dc_rms_mean'] = pd.Series([subdf.acc_dc_rms.mean()]* len(subdf), index = range(dfseq[window],dfseq[window+2]))\n",
    "        subdf['acc_ac_rms_mean'] = pd.Series([subdf.acc_ac_rms.mean()]* len(subdf), index = range(dfseq[window],dfseq[window+2]))\n",
    "        subdf['v_rms_mean'] = pd.Series([subdf.v_rms.mean()]* len(subdf), index = range(dfseq[window],dfseq[window+2]))\n",
    "        subdf['v_dc_rms_mean'] = pd.Series([subdf.v_dc_rms.mean()]* len(subdf), index = range(dfseq[window],dfseq[window+2]))\n",
    "        subdf['v_ac_rms_mean'] = pd.Series([subdf.v_ac_rms.mean()]* len(subdf), index = range(dfseq[window],dfseq[window+2]))        \n",
    "        subdf['acc_rms_min'] = pd.Series([subdf.acc_rms.min()]* len(subdf), index = range(dfseq[window],dfseq[window+2]))\n",
    "        subdf['acc_dc_rms_min'] = pd.Series([subdf.acc_dc_rms.min()]* len(subdf), index = range(dfseq[window],dfseq[window+2]))\n",
    "        subdf['acc_ac_rms_min'] = pd.Series([subdf.acc_ac_rms.min()]* len(subdf), index = range(dfseq[window],dfseq[window+2]))\n",
    "        subdf['v_rms_min'] = pd.Series([subdf.v_rms.min()]* len(subdf), index = range(dfseq[window],dfseq[window+2]))\n",
    "        subdf['v_dc_rms_min'] = pd.Series([subdf.v_dc_rms.min()]* len(subdf), index = range(dfseq[window],dfseq[window+2]))\n",
    "        subdf['v_ac_rms_min'] = pd.Series([subdf.v_ac_rms.min()]* len(subdf), index = range(dfseq[window],dfseq[window+2]))        \n",
    "        subdf['acc_rms_max'] = pd.Series([subdf.acc_rms.max()]* len(subdf), index = range(dfseq[window],dfseq[window+2]))\n",
    "        subdf['acc_dc_rms_max'] = pd.Series([subdf.acc_dc_rms.max()]* len(subdf), index = range(dfseq[window],dfseq[window+2]))\n",
    "        subdf['acc_ac_rms_max'] = pd.Series([subdf.acc_ac_rms.max()]* len(subdf), index = range(dfseq[window],dfseq[window+2]))\n",
    "        subdf['v_rms_max'] = pd.Series([subdf.v_rms.max()]* len(subdf), index = range(dfseq[window],dfseq[window+2]))\n",
    "        subdf['v_dc_rms_max'] = pd.Series([subdf.v_dc_rms.max()]* len(subdf), index = range(dfseq[window],dfseq[window+2]))\n",
    "        subdf['v_ac_rms_max'] = pd.Series([subdf.v_ac_rms.max()]* len(subdf), index = range(dfseq[window],dfseq[window+2]))        \n",
    "        subdf['acc_rms_ampl'] = subdf['acc_rms_max'] - subdf['acc_rms_min']\n",
    "        subdf['acc_dc_rms_ampl'] = subdf['acc_dc_rms_max'] - subdf['acc_dc_rms_min']\n",
    "        subdf['acc_ac_rms_ampl'] = subdf['acc_ac_rms_max'] - subdf['acc_ac_rms_min']\n",
    "        subdf['v_rms_ampl'] = subdf['v_rms_max'] - subdf['v_rms_min']\n",
    "        subdf['v_dc_rms_ampl'] = subdf['v_dc_rms_max'] - subdf['v_dc_rms_min']\n",
    "        subdf['v_ac_rms_ampl'] = subdf['v_ac_rms_max'] - subdf['v_ac_rms_min']        \n",
    "        subdf['acc_rms_sd'] = pd.Series([subdf.acc_rms.std()]* len(subdf), index = range(dfseq[window],dfseq[window+2]))\n",
    "        subdf['acc_dc_rms_sd'] = pd.Series([subdf.acc_dc_rms.std()]* len(subdf), index = range(dfseq[window],dfseq[window+2]))\n",
    "        subdf['acc_ac_rms_sd'] = pd.Series([subdf.acc_ac_rms.std()]* len(subdf), index = range(dfseq[window],dfseq[window+2]))\n",
    "        subdf['v_rms_sd'] = pd.Series([subdf.v_rms.std()]* len(subdf), index = range(dfseq[window],dfseq[window+2]))\n",
    "        subdf['v_dc_rms_sd'] = pd.Series([subdf.v_dc_rms.std()]* len(subdf), index = range(dfseq[window],dfseq[window+2]))\n",
    "        subdf['v_ac_rms_sd'] = pd.Series([subdf.v_ac_rms.std()]* len(subdf), index = range(dfseq[window],dfseq[window+2]))        \n",
    "        subdf['acc_rms_skew'] = pd.Series([subdf.acc_rms.skew()]* len(subdf), index = range(dfseq[window],dfseq[window+2]))\n",
    "        subdf['acc_dc_rms_skew'] = pd.Series([subdf.acc_dc_rms.skew()]* len(subdf), index = range(dfseq[window],dfseq[window+2]))\n",
    "        subdf['acc_ac_rms_skew'] = pd.Series([subdf.acc_ac_rms.skew()]* len(subdf), index = range(dfseq[window],dfseq[window+2]))\n",
    "        subdf['v_rms_skew'] = pd.Series([subdf.v_rms.skew()]* len(subdf), index = range(dfseq[window],dfseq[window+2]))\n",
    "        subdf['v_dc_rms_skew'] = pd.Series([subdf.v_dc_rms.skew()]* len(subdf), index = range(dfseq[window],dfseq[window+2]))\n",
    "        subdf['v_ac_rms_skew'] = pd.Series([subdf.v_ac_rms.skew()]* len(subdf), index = range(dfseq[window],dfseq[window+2]))        \n",
    "        subdf['acc_rms_kurt'] = pd.Series([subdf.acc_rms.kurtosis()]* len(subdf), index = range(dfseq[window],dfseq[window+2]))\n",
    "        subdf['acc_dc_rms_kurt'] = pd.Series([subdf.acc_dc_rms.kurtosis()]* len(subdf), index = range(dfseq[window],dfseq[window+2]))\n",
    "        subdf['acc_ac_rms_kurt'] = pd.Series([subdf.acc_ac_rms.kurtosis()]* len(subdf), index = range(dfseq[window],dfseq[window+2]))\n",
    "        subdf['v_rms_kurt'] = pd.Series([subdf.v_rms.kurtosis()]* len(subdf), index = range(dfseq[window],dfseq[window+2]))\n",
    "        subdf['v_dc_rms_kurt'] = pd.Series([subdf.v_dc_rms.kurtosis()]* len(subdf), index = range(dfseq[window],dfseq[window+2]))\n",
    "        subdf['v_ac_rms_kurt'] = pd.Series([subdf.v_ac_rms.kurtosis()]* len(subdf), index = range(dfseq[window],dfseq[window+2]))        \n",
    "        subdf['ax_std'] = pd.Series([subdf.ax.std()]* len(subdf), index = range(dfseq[window],dfseq[window+2]))\n",
    "        subdf['ay_std'] = pd.Series([subdf.ay.std()]* len(subdf), index = range(dfseq[window],dfseq[window+2]))\n",
    "        subdf['az_std'] = pd.Series([subdf.az.std()]* len(subdf), index = range(dfseq[window],dfseq[window+2]))\n",
    "        subdf['ax_dc_std'] = pd.Series([subdf.ax_dc.std()]* len(subdf), index = range(dfseq[window],dfseq[window+2]))\n",
    "        subdf['ay_dc_std'] = pd.Series([subdf.ay_dc.std()]* len(subdf), index = range(dfseq[window],dfseq[window+2]))\n",
    "        subdf['az_dc_std'] = pd.Series([subdf.az_dc.std()]* len(subdf), index = range(dfseq[window],dfseq[window+2]))\n",
    "        subdf['ax_ac_std'] = pd.Series([subdf.ax_ac.std()]* len(subdf), index = range(dfseq[window],dfseq[window+2]))\n",
    "        subdf['ay_ac_std'] = pd.Series([subdf.ay_ac.std()]* len(subdf), index = range(dfseq[window],dfseq[window+2]))\n",
    "        subdf['az_ac_std'] = pd.Series([subdf.az_ac.std()]* len(subdf), index = range(dfseq[window],dfseq[window+2]))        \n",
    "        subdf['vx_std'] = pd.Series([subdf.vx.std()]* len(subdf), index = range(dfseq[window],dfseq[window+2]))\n",
    "        subdf['vy_std'] = pd.Series([subdf.vy.std()]* len(subdf), index = range(dfseq[window],dfseq[window+2]))\n",
    "        subdf['vz_std'] = pd.Series([subdf.vz.std()]* len(subdf), index = range(dfseq[window],dfseq[window+2]))\n",
    "        subdf['vx_dc_std'] = pd.Series([subdf.vx_dc.std()]* len(subdf), index = range(dfseq[window],dfseq[window+2]))\n",
    "        subdf['vy_dc_std'] = pd.Series([subdf.vy_dc.std()]* len(subdf), index = range(dfseq[window],dfseq[window+2]))\n",
    "        subdf['vz_dc_std'] = pd.Series([subdf.vz_dc.std()]* len(subdf), index = range(dfseq[window],dfseq[window+2]))\n",
    "        subdf['vx_ac_std'] = pd.Series([subdf.vx_ac.std()]* len(subdf), index = range(dfseq[window],dfseq[window+2]))\n",
    "        subdf['vy_ac_std'] = pd.Series([subdf.vy_ac.std()]* len(subdf), index = range(dfseq[window],dfseq[window+2]))\n",
    "        subdf['vz_ac_std'] = pd.Series([subdf.vz_ac.std()]* len(subdf), index = range(dfseq[window],dfseq[window+2]))\n",
    "    else:        \n",
    "        sub = df_var[dfseq[window]:]\n",
    "        subdf = pd.concat([sub])\n",
    "        subdf['acc_rms'] = pow((subdf.ax**2) + (subdf.ay**2) + (subdf.az**2), 0.5 )\n",
    "        subdf['x_at'] = subdf.ax*0.019\n",
    "        subdf['y_at'] = subdf.ay*0.019  \n",
    "        subdf['z_at'] = subdf.az*0.019\n",
    "        subdf['vx'] = subdf.x_at.cumsum()\n",
    "        subdf['vy'] = subdf.y_at.cumsum()\n",
    "        subdf['vz'] = subdf.z_at.cumsum()\n",
    "        subdf['v_rms'] = pow((subdf.vx**2) + (subdf.vy**2) + (subdf.vz**2), 0.5)\n",
    "        subdf['ax_dc'] = pd.Series(lfilter([alpha],[1,-beta], subdf['ax'].astype(float)), index = range(dfseq[window],len(df_var.label)))\n",
    "        subdf['ay_dc'] = pd.Series(lfilter([alpha],[1,-beta], subdf['ay'].astype(float)), index = range(dfseq[window],len(df_var.label)))\n",
    "        subdf['az_dc'] = pd.Series(lfilter([alpha],[1,-beta], subdf['az'].astype(float)), index = range(dfseq[window],len(df_var.label)))\n",
    "        subdf['acc_dc_rms'] = pow((subdf.ax_dc**2) + (subdf.ay_dc**2) + (subdf.az_dc**2), 0.5)\n",
    "        subdf['ax_ac'] = subdf.ax - subdf.ax_dc\n",
    "        subdf['ay_ac'] = subdf.ay - subdf.ay_dc\n",
    "        subdf['az_ac'] = subdf.az - subdf.az_dc\n",
    "        subdf['acc_ac_rms'] = pow((subdf.ax_ac**2) + (subdf.ay_ac**2) + (subdf.az_ac**2), 0.5)\n",
    "        subdf['x_dc_at'] = subdf.ax_dc*0.019\n",
    "        subdf['y_dc_at'] = subdf.ay_dc*0.019  \n",
    "        subdf['z_dc_at'] = subdf.az_dc*0.019\n",
    "        subdf['vx_dc'] = subdf.x_dc_at.cumsum()\n",
    "        subdf['vy_dc'] = subdf.y_dc_at.cumsum()\n",
    "        subdf['vz_dc'] = subdf.z_dc_at.cumsum()\n",
    "        subdf['v_dc_rms'] = pow((subdf.vx_dc**2) + (subdf.vy_dc**2) + (subdf.vz_dc**2), 0.5)        \n",
    "        subdf['x_ac_at'] = subdf.ax_ac*0.019\n",
    "        subdf['y_ac_at'] = subdf.ay_ac*0.019  \n",
    "        subdf['z_ac_at'] = subdf.az_ac*0.019\n",
    "        subdf['vx_ac'] = subdf.x_ac_at.cumsum()\n",
    "        subdf['vy_ac'] = subdf.y_ac_at.cumsum()\n",
    "        subdf['vz_ac'] = subdf.z_ac_at.cumsum()\n",
    "        subdf['v_ac_rms'] = pow((subdf.vx_ac**2) + (subdf.vy_ac**2) + (subdf.vz_ac**2), 0.5)\n",
    "        subdf['acc_rms_mean'] = pd.Series([subdf.acc_rms.mean()]* len(subdf), index = range(dfseq[window],len(df_var.label)))\n",
    "        subdf['acc_dc_rms_mean'] = pd.Series([subdf.acc_dc_rms.mean()]* len(subdf), index = range(dfseq[window],len(df_var.label)))\n",
    "        subdf['acc_ac_rms_mean'] = pd.Series([subdf.acc_ac_rms.mean()]* len(subdf), index = range(dfseq[window],len(df_var.label)))\n",
    "        subdf['v_rms_mean'] = pd.Series([subdf.v_rms.mean()]* len(subdf), index = range(dfseq[window],len(df_var.label)))\n",
    "        subdf['v_dc_rms_mean'] = pd.Series([subdf.v_dc_rms.mean()]* len(subdf), index = range(dfseq[window],len(df_var.label)))\n",
    "        subdf['v_ac_rms_mean'] = pd.Series([subdf.v_ac_rms.mean()]* len(subdf), index = range(dfseq[window],len(df_var.label)))        \n",
    "        subdf['acc_rms_min'] = pd.Series([subdf.acc_rms.min()]* len(subdf), index = range(dfseq[window],len(df_var.label)))\n",
    "        subdf['acc_dc_rms_min'] = pd.Series([subdf.acc_dc_rms.min()]* len(subdf), index = range(dfseq[window],len(df_var.label)))\n",
    "        subdf['acc_ac_rms_min'] = pd.Series([subdf.acc_ac_rms.min()]* len(subdf), index = range(dfseq[window],len(df_var.label)))\n",
    "        subdf['v_rms_min'] = pd.Series([subdf.v_rms.min()]* len(subdf), index = range(dfseq[window],len(df_var.label)))\n",
    "        subdf['v_dc_rms_min'] = pd.Series([subdf.v_dc_rms.min()]* len(subdf), index = range(dfseq[window],len(df_var.label)))\n",
    "        subdf['v_ac_rms_min'] = pd.Series([subdf.v_ac_rms.min()]* len(subdf), index = range(dfseq[window],len(df_var.label)))        \n",
    "        subdf['acc_rms_max'] = pd.Series([subdf.acc_rms.max()]* len(subdf), index = range(dfseq[window],len(df_var.label)))\n",
    "        subdf['acc_dc_rms_max'] = pd.Series([subdf.acc_dc_rms.max()]* len(subdf), index = range(dfseq[window],len(df_var.label)))\n",
    "        subdf['acc_ac_rms_max'] = pd.Series([subdf.acc_ac_rms.max()]* len(subdf), index = range(dfseq[window],len(df_var.label)))\n",
    "        subdf['v_rms_max'] = pd.Series([subdf.v_rms.max()]* len(subdf), index = range(dfseq[window],len(df_var.label)))\n",
    "        subdf['v_dc_rms_max'] = pd.Series([subdf.v_dc_rms.max()]* len(subdf), index = range(dfseq[window],len(df_var.label)))\n",
    "        subdf['v_ac_rms_max'] = pd.Series([subdf.v_ac_rms.max()]* len(subdf), index = range(dfseq[window],len(df_var.label)))        \n",
    "        subdf['acc_rms_ampl'] = subdf['acc_rms_max'] - subdf['acc_rms_min']\n",
    "        subdf['acc_dc_rms_ampl'] = subdf['acc_dc_rms_max'] - subdf['acc_dc_rms_min']\n",
    "        subdf['acc_ac_rms_ampl'] = subdf['acc_ac_rms_max'] - subdf['acc_ac_rms_min']\n",
    "        subdf['v_rms_ampl'] = subdf['v_rms_max'] - subdf['v_rms_min']\n",
    "        subdf['v_dc_rms_ampl'] = subdf['v_dc_rms_max'] - subdf['v_dc_rms_min']\n",
    "        subdf['v_ac_rms_ampl'] = subdf['v_ac_rms_max'] - subdf['v_ac_rms_min']        \n",
    "        subdf['acc_rms_sd'] = pd.Series([subdf.acc_rms.std()]* len(subdf), index = range(dfseq[window],len(df_var.label)))\n",
    "        subdf['acc_dc_rms_sd'] = pd.Series([subdf.acc_dc_rms.std()]* len(subdf), index = range(dfseq[window],len(df_var.label)))\n",
    "        subdf['acc_ac_rms_sd'] = pd.Series([subdf.acc_ac_rms.std()]* len(subdf), index = range(dfseq[window],len(df_var.label)))\n",
    "        subdf['v_rms_sd'] = pd.Series([subdf.v_rms.std()]* len(subdf), index = range(dfseq[window],len(df_var.label)))\n",
    "        subdf['v_dc_rms_sd'] = pd.Series([subdf.v_dc_rms.std()]* len(subdf), index = range(dfseq[window],len(df_var.label)))\n",
    "        subdf['v_ac_rms_sd'] = pd.Series([subdf.v_ac_rms.std()]* len(subdf), index = range(dfseq[window],len(df_var.label)))        \n",
    "        subdf['acc_rms_skew'] = pd.Series([subdf.acc_rms.skew()]* len(subdf), index = range(dfseq[window],len(df_var.label)))\n",
    "        subdf['acc_dc_rms_skew'] = pd.Series([subdf.acc_dc_rms.skew()]* len(subdf), index = range(dfseq[window],len(df_var.label)))\n",
    "        subdf['acc_ac_rms_skew'] = pd.Series([subdf.acc_ac_rms.skew()]* len(subdf), index = range(dfseq[window],len(df_var.label)))\n",
    "        subdf['v_rms_skew'] = pd.Series([subdf.v_rms.skew()]* len(subdf), index = range(dfseq[window],len(df_var.label)))\n",
    "        subdf['v_dc_rms_skew'] = pd.Series([subdf.v_dc_rms.skew()]* len(subdf), index = range(dfseq[window],len(df_var.label)))\n",
    "        subdf['v_ac_rms_skew'] = pd.Series([subdf.v_ac_rms.skew()]* len(subdf), index = range(dfseq[window],len(df_var.label)))        \n",
    "        subdf['acc_rms_kurt'] = pd.Series([subdf.acc_rms.kurtosis()]* len(subdf), index = range(dfseq[window],len(df_var.label)))\n",
    "        subdf['acc_dc_rms_kurt'] = pd.Series([subdf.acc_dc_rms.kurtosis()]* len(subdf), index = range(dfseq[window],len(df_var.label)))\n",
    "        subdf['acc_ac_rms_kurt'] = pd.Series([subdf.acc_ac_rms.kurtosis()]* len(subdf), index = range(dfseq[window],len(df_var.label)))\n",
    "        subdf['v_rms_kurt'] = pd.Series([subdf.v_rms.kurtosis()]* len(subdf), index = range(dfseq[window],len(df_var.label)))\n",
    "        subdf['v_dc_rms_kurt'] = pd.Series([subdf.v_dc_rms.kurtosis()]* len(subdf), index = range(dfseq[window],len(df_var.label)))\n",
    "        subdf['v_ac_rms_kurt'] = pd.Series([subdf.v_ac_rms.kurtosis()]* len(subdf), index = range(dfseq[window],len(df_var.label)))        \n",
    "        subdf['ax_std'] = pd.Series([subdf.ax.std()]* len(subdf), index = range(dfseq[window],len(df_var.label)))\n",
    "        subdf['ay_std'] = pd.Series([subdf.ay.std()]* len(subdf), index = range(dfseq[window],len(df_var.label)))\n",
    "        subdf['az_std'] = pd.Series([subdf.az.std()]* len(subdf), index = range(dfseq[window],len(df_var.label)))\n",
    "        subdf['ax_dc_std'] = pd.Series([subdf.ax_dc.std()]* len(subdf), index = range(dfseq[window],len(df_var.label)))\n",
    "        subdf['ay_dc_std'] = pd.Series([subdf.ay_dc.std()]* len(subdf), index = range(dfseq[window],len(df_var.label)))\n",
    "        subdf['az_dc_std'] = pd.Series([subdf.az_dc.std()]* len(subdf), index = range(dfseq[window],len(df_var.label)))\n",
    "        subdf['ax_ac_std'] = pd.Series([subdf.ax_ac.std()]* len(subdf), index = range(dfseq[window],len(df_var.label)))\n",
    "        subdf['ay_ac_std'] = pd.Series([subdf.ay_ac.std()]* len(subdf), index = range(dfseq[window],len(df_var.label)))\n",
    "        subdf['az_ac_std'] = pd.Series([subdf.az_ac.std()]* len(subdf), index = range(dfseq[window],len(df_var.label)))        \n",
    "        subdf['vx_std'] = pd.Series([subdf.vx.std()]* len(subdf), index = range(dfseq[window],len(df_var.label)))\n",
    "        subdf['vy_std'] = pd.Series([subdf.vy.std()]* len(subdf), index = range(dfseq[window],len(df_var.label)))\n",
    "        subdf['vz_std'] = pd.Series([subdf.vz.std()]* len(subdf), index = range(dfseq[window],len(df_var.label)))\n",
    "        subdf['vx_dc_std'] = pd.Series([subdf.vx_dc.std()]* len(subdf), index = range(dfseq[window],len(df_var.label)))\n",
    "        subdf['vy_dc_std'] = pd.Series([subdf.vy_dc.std()]* len(subdf), index = range(dfseq[window],len(df_var.label)))\n",
    "        subdf['vz_dc_std'] = pd.Series([subdf.vz_dc.std()]* len(subdf), index = range(dfseq[window],len(df_var.label)))\n",
    "        subdf['vx_ac_std'] = pd.Series([subdf.vx_ac.std()]* len(subdf), index = range(dfseq[window],len(df_var.label)))\n",
    "        subdf['vy_ac_std'] = pd.Series([subdf.vy_ac.std()]* len(subdf), index = range(dfseq[window],len(df_var.label)))\n",
    "        subdf['vz_ac_std'] = pd.Series([subdf.vz_ac.std()]* len(subdf), index = range(dfseq[window],len(df_var.label)))\n",
    "    fin_df = pd.concat([fin_df, subdf])\n",
    "\n",
    "fin_df = fin_df.drop(['id','x_at','y_at','z_at','x_dc_at','y_dc_at','z_dc_at','x_ac_at','y_ac_at','z_ac_at'], axis =1)    \n",
    "fin_df.index = range(len(fin_df))"
   ]
  },
  {
   "cell_type": "code",
   "execution_count": 31,
   "metadata": {
    "collapsed": false
   },
   "outputs": [],
   "source": [
    "### sample the dataset into training and testing. taking records from start to 75% into training set and the rest into testing set\n",
    "samplelimit =  int(0.75*len(fin_df))"
   ]
  },
  {
   "cell_type": "code",
   "execution_count": 32,
   "metadata": {
    "collapsed": false
   },
   "outputs": [],
   "source": [
    "train = fin_df[0:samplelimit]\n",
    "target = fin_df.label\n",
    "train = fin_df.drop(['label'], axis = 1)"
   ]
  },
  {
   "cell_type": "code",
   "execution_count": 33,
   "metadata": {
    "collapsed": false
   },
   "outputs": [],
   "source": [
    "test = fin_df[samplelimit:]\n",
    "test_target = test.label\n",
    "test = test.drop(['label'], axis = 1)"
   ]
  },
  {
   "cell_type": "code",
   "execution_count": 24,
   "metadata": {
    "collapsed": false
   },
   "outputs": [],
   "source": [
    "clf = RandomForestClassifier(n_estimators=100)"
   ]
  },
  {
   "cell_type": "code",
   "execution_count": 25,
   "metadata": {
    "collapsed": false
   },
   "outputs": [
    {
     "data": {
      "text/plain": [
       "RandomForestClassifier(bootstrap=True, class_weight=None, criterion='gini',\n",
       "            max_depth=None, max_features='auto', max_leaf_nodes=None,\n",
       "            min_samples_leaf=1, min_samples_split=2,\n",
       "            min_weight_fraction_leaf=0.0, n_estimators=100, n_jobs=1,\n",
       "            oob_score=False, random_state=None, verbose=0,\n",
       "            warm_start=False)"
      ]
     },
     "execution_count": 25,
     "metadata": {},
     "output_type": "execute_result"
    }
   ],
   "source": [
    "clf.fit(train, target)\n"
   ]
  },
  {
   "cell_type": "code",
   "execution_count": 41,
   "metadata": {
    "collapsed": false
   },
   "outputs": [],
   "source": [
    "pred = clf.predict(test)"
   ]
  },
  {
   "cell_type": "code",
   "execution_count": 42,
   "metadata": {
    "collapsed": false
   },
   "outputs": [
    {
     "data": {
      "text/html": [
       "<div>\n",
       "<table border=\"1\" class=\"dataframe\">\n",
       "  <thead>\n",
       "    <tr style=\"text-align: right;\">\n",
       "      <th>pred</th>\n",
       "      <th>1</th>\n",
       "      <th>2</th>\n",
       "      <th>3</th>\n",
       "      <th>4</th>\n",
       "      <th>5</th>\n",
       "      <th>6</th>\n",
       "      <th>7</th>\n",
       "    </tr>\n",
       "    <tr>\n",
       "      <th>actual</th>\n",
       "      <th></th>\n",
       "      <th></th>\n",
       "      <th></th>\n",
       "      <th></th>\n",
       "      <th></th>\n",
       "      <th></th>\n",
       "      <th></th>\n",
       "    </tr>\n",
       "  </thead>\n",
       "  <tbody>\n",
       "    <tr>\n",
       "      <th>1</th>\n",
       "      <td>67290</td>\n",
       "      <td>0</td>\n",
       "      <td>0</td>\n",
       "      <td>0</td>\n",
       "      <td>0</td>\n",
       "      <td>0</td>\n",
       "      <td>0</td>\n",
       "    </tr>\n",
       "    <tr>\n",
       "      <th>2</th>\n",
       "      <td>0</td>\n",
       "      <td>1856</td>\n",
       "      <td>0</td>\n",
       "      <td>0</td>\n",
       "      <td>0</td>\n",
       "      <td>0</td>\n",
       "      <td>0</td>\n",
       "    </tr>\n",
       "    <tr>\n",
       "      <th>3</th>\n",
       "      <td>0</td>\n",
       "      <td>0</td>\n",
       "      <td>22358</td>\n",
       "      <td>0</td>\n",
       "      <td>0</td>\n",
       "      <td>0</td>\n",
       "      <td>0</td>\n",
       "    </tr>\n",
       "    <tr>\n",
       "      <th>4</th>\n",
       "      <td>0</td>\n",
       "      <td>0</td>\n",
       "      <td>0</td>\n",
       "      <td>53720</td>\n",
       "      <td>0</td>\n",
       "      <td>0</td>\n",
       "      <td>0</td>\n",
       "    </tr>\n",
       "    <tr>\n",
       "      <th>5</th>\n",
       "      <td>0</td>\n",
       "      <td>0</td>\n",
       "      <td>0</td>\n",
       "      <td>0</td>\n",
       "      <td>6382</td>\n",
       "      <td>0</td>\n",
       "      <td>0</td>\n",
       "    </tr>\n",
       "    <tr>\n",
       "      <th>6</th>\n",
       "      <td>0</td>\n",
       "      <td>0</td>\n",
       "      <td>0</td>\n",
       "      <td>0</td>\n",
       "      <td>0</td>\n",
       "      <td>5834</td>\n",
       "      <td>0</td>\n",
       "    </tr>\n",
       "    <tr>\n",
       "      <th>7</th>\n",
       "      <td>0</td>\n",
       "      <td>0</td>\n",
       "      <td>0</td>\n",
       "      <td>0</td>\n",
       "      <td>0</td>\n",
       "      <td>0</td>\n",
       "      <td>167496</td>\n",
       "    </tr>\n",
       "  </tbody>\n",
       "</table>\n",
       "</div>"
      ],
      "text/plain": [
       "pred        1     2      3      4     5     6       7\n",
       "actual                                               \n",
       "1       67290     0      0      0     0     0       0\n",
       "2           0  1856      0      0     0     0       0\n",
       "3           0     0  22358      0     0     0       0\n",
       "4           0     0      0  53720     0     0       0\n",
       "5           0     0      0      0  6382     0       0\n",
       "6           0     0      0      0     0  5834       0\n",
       "7           0     0      0      0     0     0  167496"
      ]
     },
     "execution_count": 42,
     "metadata": {},
     "output_type": "execute_result"
    }
   ],
   "source": [
    "### testing on the same training set with the trained classifier ; accuracy is 100%\n",
    "pd.crosstab(test_target, pred, rownames = ['actual'], colnames=['pred'])"
   ]
  },
  {
   "cell_type": "code",
   "execution_count": 43,
   "metadata": {
    "collapsed": false
   },
   "outputs": [
    {
     "data": {
      "text/plain": [
       "1.0"
      ]
     },
     "execution_count": 43,
     "metadata": {},
     "output_type": "execute_result"
    }
   ],
   "source": [
    "accuracy_score(test_target, pred)\n"
   ]
  },
  {
   "cell_type": "code",
   "execution_count": 44,
   "metadata": {
    "collapsed": false
   },
   "outputs": [],
   "source": [
    "imp = clf.feature_importances_"
   ]
  },
  {
   "cell_type": "code",
   "execution_count": 45,
   "metadata": {
    "collapsed": false
   },
   "outputs": [],
   "source": [
    "imp = pd.Series(imp, index = train.columns)"
   ]
  },
  {
   "cell_type": "code",
   "execution_count": 46,
   "metadata": {
    "collapsed": true
   },
   "outputs": [],
   "source": [
    "imp.sort(ascending = False)"
   ]
  },
  {
   "cell_type": "code",
   "execution_count": 47,
   "metadata": {
    "collapsed": false
   },
   "outputs": [
    {
     "data": {
      "text/plain": [
       "<matplotlib.figure.Figure at 0x199f29b0>"
      ]
     },
     "execution_count": 47,
     "metadata": {},
     "output_type": "execute_result"
    }
   ],
   "source": [
    "plt.figure()"
   ]
  },
  {
   "cell_type": "code",
   "execution_count": 48,
   "metadata": {
    "collapsed": false
   },
   "outputs": [
    {
     "data": {
      "text/plain": [
       "<Container object of 84 artists>"
      ]
     },
     "execution_count": 48,
     "metadata": {},
     "output_type": "execute_result"
    }
   ],
   "source": [
    "plt.bar(range(len(imp)), imp,color = 'r')"
   ]
  },
  {
   "cell_type": "code",
   "execution_count": 49,
   "metadata": {
    "collapsed": false
   },
   "outputs": [],
   "source": [
    "plt.show()"
   ]
  },
  {
   "cell_type": "code",
   "execution_count": 50,
   "metadata": {
    "collapsed": false
   },
   "outputs": [
    {
     "data": {
      "text/plain": [
       "acc_rms_max        0.076892\n",
       "vx_std             0.063014\n",
       "vx_dc_std          0.062395\n",
       "ay_std             0.060530\n",
       "acc_rms_sd         0.049911\n",
       "acc_ac_rms_sd      0.048791\n",
       "acc_rms_min        0.042725\n",
       "v_rms_ampl         0.036867\n",
       "acc_ac_rms_mean    0.034734\n",
       "az_std             0.034210\n",
       "dtype: float64"
      ]
     },
     "execution_count": 50,
     "metadata": {},
     "output_type": "execute_result"
    }
   ],
   "source": [
    "imp[0:10]"
   ]
  },
  {
   "cell_type": "code",
   "execution_count": null,
   "metadata": {
    "collapsed": false
   },
   "outputs": [],
   "source": []
  },
  {
   "cell_type": "code",
   "execution_count": 337,
   "metadata": {
    "collapsed": false
   },
   "outputs": [],
   "source": []
  }
 ],
 "metadata": {
  "kernelspec": {
   "display_name": "Python 2",
   "language": "python",
   "name": "python2"
  },
  "language_info": {
   "codemirror_mode": {
    "name": "ipython",
    "version": 2
   },
   "file_extension": ".py",
   "mimetype": "text/x-python",
   "name": "python",
   "nbconvert_exporter": "python",
   "pygments_lexer": "ipython2",
   "version": "2.7.10"
  }
 },
 "nbformat": 4,
 "nbformat_minor": 0
}
